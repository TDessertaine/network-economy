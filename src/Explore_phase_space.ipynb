{
 "cells": [
  {
   "cell_type": "code",
   "execution_count": 1,
   "metadata": {},
   "outputs": [],
   "source": [
    "import os, sys\n",
    "\n",
    "import pandas as pd\n",
    "import economy as economy\n",
    "import dynamics_ as dynamics\n",
    "\n",
    "\n",
    "import numpy as np\n",
    "import pandas as pd\n",
    "import matplotlib.pyplot as plt\n",
    "import networkx as nx\n",
    "import seaborn as sns\n",
    "import matplotlib\n",
    "import ibase\n",
    "import statistics \n",
    "import pickle"
   ]
  },
  {
   "cell_type": "code",
   "execution_count": 2,
   "metadata": {},
   "outputs": [],
   "source": [
    "def Simulation_for_classification_alpha(alpha_p_, q_ = None, epsilon_ = None, sigma_ = None, alpha_ = None,   beta_ = None, beta_p_ =None, omega_ = None, theta_uniform = None, f_ = None, r_ = None, d_  = None,seed = 0,min_loss = np.inf):\n",
    "    \n",
    "    ### Economy\n",
    "    n = 100\n",
    "    d = d_ if d_ else 15\n",
    "    j0 = np.ones(n) #np.random.choice([0,1],n, p=[0.,1]) ##* np.random.uniform(1,10,n) \n",
    "    a0 =  0.5* np.ones(n)\n",
    "    epsilon = epsilon_ if epsilon_ else 1\n",
    "    ### Production fuction\n",
    "    q = q_ if q_ else 0\n",
    "    b = .95\n",
    "    L = 1\n",
    "    ### Households \n",
    "    if theta_uniform == True:\n",
    "        theta= 1/n*np.ones(n) \n",
    "    else: \n",
    "        theta = np.random.uniform(0,1,n)\n",
    "        theta = theta/np.sum(theta)\n",
    "    \n",
    "    gamma = 1\n",
    "    phi = 1\n",
    "    f = f_ if f_ else 1 \n",
    "    r = r_ if r_ else 0\n",
    "    ### Firm\n",
    "    z = 30*np.random.uniform(1,1,n)\n",
    "    sigma = sigma_*np.ones(n) if sigma_ else np.random.uniform(0.8,0.8,n)\n",
    "    alpha = alpha_ if alpha_ else 0.4\n",
    "    alpha_p = alpha_p_ \n",
    "    beta = beta_ if beta_ else alpha\n",
    "    beta_p = beta_p_ if beta_p_ else alpha\n",
    "    omega = omega_ if omega_ else 0.1\n",
    "    ### Dynamic\n",
    "    tmax = 20000\n",
    "    np.random.seed(seed)\n",
    "    e = economy.Economy(n, d, 'regular', True, j0, a0, q, b)\n",
    "    e.init_firms(z, sigma, alpha, alpha_p, beta, beta_p, omega)\n",
    "    e.init_house(L, theta, gamma, phi, omega_p = omega, f = f_, r = r_)\n",
    "    \n",
    "    e.set_quantities()\n",
    "    e.set_eps_cal(epsilon)\n",
    "    e.compute_eq()\n",
    "    \n",
    "#     if epsilon > 0: \n",
    "    w0 = 1\n",
    "    p0 = e.p_eq* (1+np.random.uniform(-0.00001,0.00001,n))\n",
    "    g0 = e.g_eq* (1+np.random.uniform(-0.00001,0.00001,n))\n",
    "    #why do we perturb initial target?\n",
    "    t1 = e.g_eq #* (1+np.random.uniform(-0.00001,0.00001,n))\n",
    "    s0 = np.zeros((n,n))\n",
    "    B0 = (1-e.house.f) * e.b_eq\n",
    "#     else: \n",
    "#         w0 = 1\n",
    "#         p0 = np.random.uniform(1,2,n)\n",
    "#         g0 = np.random.uniform(.1,.2,n)\n",
    "#         t1 = np.random.uniform(.1,.2,n)\n",
    "#         s0 = np.zeros((n,n))\n",
    "#         B0 = 0\n",
    "    \n",
    "    sim = dynamics.Dynamics(e, tmax)\n",
    "    sim.set_initial_conditions(p0, w0, g0, t1, s0, B0)\n",
    "    sim.update_min_loss(min_loss)\n",
    "    sim.discrete_dynamics()\n",
    "\n",
    "    supplies, demands = sim.compute_gains_losses_supplies_demand(sim.eco, sim.q_demand, sim.q_exchange, sim.prices, sim.prods, sim.stocks, sim.labour)\n",
    "    gains, losses     = sim.gains, sim.losses\n",
    "    df = pd.DataFrame({'unemployment': (sim.labour[1:-1]-np.sum(sim.q_exchange[1:-1,1:,0], axis = 1))[-2500:],\n",
    "                            'excess_work': (sim.labour[1:-1]-np.sum(sim.q_demand[1:-1,1:,0], axis = 1))[-2500:],\n",
    "                            'prices': (sim.prices[1:]/sim.eco.p_eq-1)[tmax-2500:].mean(axis=1),\n",
    "                            'excess_products': ((supplies[-2500:,1:]-demands[-2500:,1:])/supplies[-2500:,1:]).mean(axis=1),\n",
    "                            'phases':0,\n",
    "                            'alpha': alpha,\n",
    "                            'sigma': sigma[0],\n",
    "                            'omega': omega,\n",
    "                            'epsilon': sim.eco.get_eps_cal(),\n",
    "                            'alpha_p': alpha_p,\n",
    "                            'q': q,\n",
    "                            'f': f,\n",
    "                            'r': r, \n",
    "                            'beta': beta,\n",
    "                            'beta_p': beta_p,\n",
    "                            'd': d,\n",
    "                       \n",
    "                           })\n",
    "\n",
    "    \n",
    "    \n",
    "    df = df.groupby(['alpha', 'gamma']).agg({'unemployment': ['mean', 'std', 'median'], 'prices': ['mean','std'],'excess_work': ['mean'], 'excess_products':['std'], 'epsilon':['mean'], 'alpha':['mean'],  'sigma':['mean'], 'omega':['mean'],  'f':['mean'], 'r':['mean'], 'alpha_p':['mean'],'q':['mean'], 'beta':['mean'], 'beta_p':['mean'], 'd':['mean']})\n",
    "\n",
    "    df.columns = ['unemployment_mean', 'unemployment_std', 'unemployment_median','prices_mean','prices_std', 'excess_work_mean','excess_products_std','epsilon','alpha', 'sigma','omega',  'f', 'r', 'alpha_p','q', 'beta', 'beta_p', 'd']\n",
    "\n",
    "    \n",
    "    ##### use vector and add alpha and sigma ##### I'm not sure that Is a good idea...\n",
    "    \n",
    "    return df"
   ]
  },
  {
   "cell_type": "code",
   "execution_count": 3,
   "metadata": {},
   "outputs": [],
   "source": [
    "alpha_ = np.linspace(0.01, 0.7, 2)\n",
    "omega_ = np.linspace(0.01, 0.7, 2)\n",
    "mesh = np.array(np.meshgrid(alpha_, omega_)).T.reshape(-1,2)\n",
    "\n",
    "config = pd.DataFrame({'epsilon_':100, 'alpha_': mesh[:,0], 'sigma_' : mesh[:,1], 'omega_': 0.1 , 'alpha_p_': mesh[:,0] ,'theta_uniform': True })"
   ]
  },
  {
   "cell_type": "code",
   "execution_count": 4,
   "metadata": {},
   "outputs": [
    {
     "ename": "AttributeError",
     "evalue": "module 'ibase' has no attribute 'parallelize'",
     "output_type": "error",
     "traceback": [
      "\u001b[1;31m---------------------------------------------------------------------------\u001b[0m",
      "\u001b[1;31mAttributeError\u001b[0m                            Traceback (most recent call last)",
      "Cell \u001b[1;32mIn [4], line 1\u001b[0m\n\u001b[1;32m----> 1\u001b[0m job \u001b[38;5;241m=\u001b[39m \u001b[43mibase\u001b[49m\u001b[38;5;241;43m.\u001b[39;49m\u001b[43mparallelize\u001b[49m(Simulation_for_classification_alpha, config, SA_args\u001b[38;5;241m=\u001b[39m{\u001b[38;5;124m'\u001b[39m\u001b[38;5;124mtime\u001b[39m\u001b[38;5;124m'\u001b[39m:\u001b[38;5;241m100\u001b[39m, \u001b[38;5;124m'\u001b[39m\u001b[38;5;124mmem\u001b[39m\u001b[38;5;124m'\u001b[39m:\u001b[38;5;241m20000\u001b[39m})\n",
      "\u001b[1;31mAttributeError\u001b[0m: module 'ibase' has no attribute 'parallelize'"
     ]
    }
   ],
   "source": [
    "job = ibase.parallelize(Simulation_for_classification_alpha, config, SA_args={'time':100, 'mem':20000})"
   ]
  },
  {
   "cell_type": "code",
   "execution_count": 5,
   "metadata": {},
   "outputs": [
    {
     "data": {
      "image/png": "[encoded data removed]",
      "text/plain": [
       "<Figure size 1080x360 with 2 Axes>"
      ]
     },
     "metadata": {
      "needs_background": "light"
     },
     "output_type": "display_data"
    }
   ],
   "source": [
    "job.plot_status(update=True)"
   ]
  },
  {
   "cell_type": "code",
   "execution_count": 6,
   "metadata": {},
   "outputs": [
    {
     "name": "stdout",
     "output_type": "stream",
     "text": [
      "\u001b[30m * job 1186206 reached status success\u001b[0m\n",
      "\u001b[30m * retrieving outputs of job 1186206 from /mnt/research-live/user/emoretti/ibase/20220601_111042_Simulation_for_classification_alpha/\u001b[0m\n"
     ]
    }
   ],
   "source": [
    "job.wait_for_status()\n",
    "j = job.results()"
   ]
  },
  {
   "cell_type": "code",
   "execution_count": 7,
   "metadata": {},
   "outputs": [],
   "source": [
    "filename = ''\n",
    "\n",
    "filename = '3-06-2022/Index_'+ str(j['0'].index.names[0])+ '_'+ str(str(j['0'].index.names[1]))+'_Fix_Parameters_'\n",
    "for i in np.arange(7,15):\n",
    "    filename = filename+ j['0'].columns[i]+'='+str(np.round(j['0'].iloc[0,i],6))+r'_'\n",
    "        \n",
    "with open(filename+'mu_0.1.pikle', 'wb') as f:\n",
    "    pickle.dump(j, f)"
   ]
  },
  {
   "cell_type": "markdown",
   "metadata": {},
   "source": [
    "# Iterative search"
   ]
  },
  {
   "cell_type": "code",
   "execution_count": null,
   "metadata": {},
   "outputs": [
    {
     "data": {
      "image/png": "[encoded data removed]",
      "text/plain": [
       "<Figure size 1080x360 with 2 Axes>"
      ]
     },
     "metadata": {
      "needs_background": "light"
     },
     "output_type": "display_data"
    }
   ],
   "source": [
    "# f_ = #[0.9, 0.8, 0.7]\n",
    "# r_ = np.append([0],np.logspace(5, 2, 29)**-1)\n",
    "      \n",
    "alpha_ = np.linspace(0.01, 0.7, 20)\n",
    "omega_ = np.linspace(0.01, 0.7, 20)\n",
    "mesh = np.array(np.meshgrid(alpha_, omega_)).T.reshape(-1,2)\n",
    "\n",
    "alpha_p_ = [0.4, 0.5]\n",
    "\n",
    "for i in alpha_p_:\n",
    "        config = pd.DataFrame({ 'alpha_': mesh[:,0], 'sigma_' : mesh[:,1], 'omega_':0.1, 'alpha_p_': i ,  'theta_uniform': True })\n",
    "        job = ibase.parallelize(Simulation_for_classification_alpha_DOBB_DOUGLAS, config, SA_args={'time':1000, 'mem':20000})\n",
    "        job.plot_status(update=True)\n",
    "        job.wait_for_status()\n",
    "        j = job.results()\n",
    "        filename = ''\n",
    "        for k in np.arange(7,13):\n",
    "            filename = filename+ j['0'].columns[k]+'='+str(np.round(j['0'].iloc[0,k],10))+r'_'\n",
    "\n",
    "        with open('Cobb-Douglas/'+filename+'_my.pikle', 'wb') as f:\n",
    "            pickle.dump(j, f) "
   ]
  },
  {
   "cell_type": "code",
   "execution_count": null,
   "metadata": {},
   "outputs": [],
   "source": []
  }
 ],
 "metadata": {
  "hide_input": false,
  "kernelspec": {
   "display_name": "Python 3 (ipykernel)",
   "language": "python",
   "name": "python3"
  },
  "language_info": {
   "codemirror_mode": {
    "name": "ipython",
    "version": 3
   },
   "file_extension": ".py",
   "mimetype": "text/x-python",
   "name": "python",
   "nbconvert_exporter": "python",
   "pygments_lexer": "ipython3",
   "version": "3.8.5"
  },
  "toc": {
   "base_numbering": 1,
   "nav_menu": {},
   "number_sections": true,
   "sideBar": true,
   "skip_h1_title": false,
   "title_cell": "Table of Contents",
   "title_sidebar": "Contents",
   "toc_cell": false,
   "toc_position": {},
   "toc_section_display": true,
   "toc_window_display": false
  }
 },
 "nbformat": 4,
 "nbformat_minor": 4
}
