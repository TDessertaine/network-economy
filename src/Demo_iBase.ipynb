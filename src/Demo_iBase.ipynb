{
 "cells": [
  {
   "cell_type": "code",
   "execution_count": 1,
   "metadata": {},
   "outputs": [],
   "source": [
    "import pandas as pd \n",
    "import ibase \n",
    "import numpy as np "
   ]
  },
  {
   "cell_type": "code",
   "execution_count": 2,
   "metadata": {},
   "outputs": [],
   "source": [
    "df = pd.DataFrame(np.arange(20))"
   ]
  },
  {
   "cell_type": "code",
   "execution_count": 3,
   "metadata": {},
   "outputs": [
    {
     "data": {
      "text/html": [
       "<div>\n",
       "<style scoped>\n",
       "    .dataframe tbody tr th:only-of-type {\n",
       "        vertical-align: middle;\n",
       "    }\n",
       "\n",
       "    .dataframe tbody tr th {\n",
       "        vertical-align: top;\n",
       "    }\n",
       "\n",
       "    .dataframe thead th {\n",
       "        text-align: right;\n",
       "    }\n",
       "</style>\n",
       "<table border=\"1\" class=\"dataframe\">\n",
       "  <thead>\n",
       "    <tr style=\"text-align: right;\">\n",
       "      <th></th>\n",
       "      <th>0</th>\n",
       "    </tr>\n",
       "  </thead>\n",
       "  <tbody>\n",
       "    <tr>\n",
       "      <th>0</th>\n",
       "      <td>0</td>\n",
       "    </tr>\n",
       "    <tr>\n",
       "      <th>1</th>\n",
       "      <td>1</td>\n",
       "    </tr>\n",
       "    <tr>\n",
       "      <th>2</th>\n",
       "      <td>2</td>\n",
       "    </tr>\n",
       "    <tr>\n",
       "      <th>3</th>\n",
       "      <td>3</td>\n",
       "    </tr>\n",
       "    <tr>\n",
       "      <th>4</th>\n",
       "      <td>4</td>\n",
       "    </tr>\n",
       "    <tr>\n",
       "      <th>5</th>\n",
       "      <td>5</td>\n",
       "    </tr>\n",
       "    <tr>\n",
       "      <th>6</th>\n",
       "      <td>6</td>\n",
       "    </tr>\n",
       "    <tr>\n",
       "      <th>7</th>\n",
       "      <td>7</td>\n",
       "    </tr>\n",
       "    <tr>\n",
       "      <th>8</th>\n",
       "      <td>8</td>\n",
       "    </tr>\n",
       "    <tr>\n",
       "      <th>9</th>\n",
       "      <td>9</td>\n",
       "    </tr>\n",
       "    <tr>\n",
       "      <th>10</th>\n",
       "      <td>10</td>\n",
       "    </tr>\n",
       "    <tr>\n",
       "      <th>11</th>\n",
       "      <td>11</td>\n",
       "    </tr>\n",
       "    <tr>\n",
       "      <th>12</th>\n",
       "      <td>12</td>\n",
       "    </tr>\n",
       "    <tr>\n",
       "      <th>13</th>\n",
       "      <td>13</td>\n",
       "    </tr>\n",
       "    <tr>\n",
       "      <th>14</th>\n",
       "      <td>14</td>\n",
       "    </tr>\n",
       "    <tr>\n",
       "      <th>15</th>\n",
       "      <td>15</td>\n",
       "    </tr>\n",
       "    <tr>\n",
       "      <th>16</th>\n",
       "      <td>16</td>\n",
       "    </tr>\n",
       "    <tr>\n",
       "      <th>17</th>\n",
       "      <td>17</td>\n",
       "    </tr>\n",
       "    <tr>\n",
       "      <th>18</th>\n",
       "      <td>18</td>\n",
       "    </tr>\n",
       "    <tr>\n",
       "      <th>19</th>\n",
       "      <td>19</td>\n",
       "    </tr>\n",
       "  </tbody>\n",
       "</table>\n",
       "</div>"
      ],
      "text/plain": [
       "     0\n",
       "0    0\n",
       "1    1\n",
       "2    2\n",
       "3    3\n",
       "4    4\n",
       "5    5\n",
       "6    6\n",
       "7    7\n",
       "8    8\n",
       "9    9\n",
       "10  10\n",
       "11  11\n",
       "12  12\n",
       "13  13\n",
       "14  14\n",
       "15  15\n",
       "16  16\n",
       "17  17\n",
       "18  18\n",
       "19  19"
      ]
     },
     "execution_count": 3,
     "metadata": {},
     "output_type": "execute_result"
    }
   ],
   "source": [
    "df"
   ]
  },
  {
   "cell_type": "code",
   "execution_count": 4,
   "metadata": {},
   "outputs": [],
   "source": [
    "df.columns = ['i']"
   ]
  },
  {
   "cell_type": "code",
   "execution_count": 5,
   "metadata": {},
   "outputs": [
    {
     "data": {
      "text/html": [
       "<div>\n",
       "<style scoped>\n",
       "    .dataframe tbody tr th:only-of-type {\n",
       "        vertical-align: middle;\n",
       "    }\n",
       "\n",
       "    .dataframe tbody tr th {\n",
       "        vertical-align: top;\n",
       "    }\n",
       "\n",
       "    .dataframe thead th {\n",
       "        text-align: right;\n",
       "    }\n",
       "</style>\n",
       "<table border=\"1\" class=\"dataframe\">\n",
       "  <thead>\n",
       "    <tr style=\"text-align: right;\">\n",
       "      <th></th>\n",
       "      <th>i</th>\n",
       "    </tr>\n",
       "  </thead>\n",
       "  <tbody>\n",
       "    <tr>\n",
       "      <th>0</th>\n",
       "      <td>0</td>\n",
       "    </tr>\n",
       "    <tr>\n",
       "      <th>1</th>\n",
       "      <td>1</td>\n",
       "    </tr>\n",
       "    <tr>\n",
       "      <th>2</th>\n",
       "      <td>2</td>\n",
       "    </tr>\n",
       "    <tr>\n",
       "      <th>3</th>\n",
       "      <td>3</td>\n",
       "    </tr>\n",
       "    <tr>\n",
       "      <th>4</th>\n",
       "      <td>4</td>\n",
       "    </tr>\n",
       "  </tbody>\n",
       "</table>\n",
       "</div>"
      ],
      "text/plain": [
       "   i\n",
       "0  0\n",
       "1  1\n",
       "2  2\n",
       "3  3\n",
       "4  4"
      ]
     },
     "execution_count": 5,
     "metadata": {},
     "output_type": "execute_result"
    }
   ],
   "source": [
    "df.head()"
   ]
  },
  {
   "cell_type": "code",
   "execution_count": 8,
   "metadata": {},
   "outputs": [],
   "source": [
    "def fonction_test(i):\n",
    "    if i == 4:\n",
    "        raise ValueError\n",
    "    return f'La valeur de i ici est de {i}'"
   ]
  },
  {
   "cell_type": "code",
   "execution_count": 9,
   "metadata": {},
   "outputs": [
    {
     "name": "stdout",
     "output_type": "stream",
     "text": [
      "Help on package ibase:\n",
      "\n",
      "NAME\n",
      "    ibase\n",
      "\n",
      "DESCRIPTION\n",
      "    # -*- coding: utf-8 -*-\n",
      "    # Only the main functions are imported.\n",
      "\n",
      "PACKAGE CONTENTS\n",
      "    _api\n",
      "    _basejob\n",
      "    _helpers\n",
      "    _logger\n",
      "    _parallel\n",
      "    _version\n",
      "\n",
      "VERSION\n",
      "    0.2.1\n",
      "\n",
      "FILE\n",
      "    /home/cboissel/conda/envs/my_env/lib/python3.6/site-packages/ibase/__init__.py\n",
      "\n",
      "\n"
     ]
    }
   ],
   "source": [
    "help(ibase)"
   ]
  },
  {
   "cell_type": "code",
   "execution_count": 10,
   "metadata": {},
   "outputs": [
    {
     "name": "stdout",
     "output_type": "stream",
     "text": [
      "\u001b[30m * ibase v0.2.1\u001b[0m\n",
      "\u001b[30m * creating directory /mnt/research-live/user/cboissel/ibase/20200910_184839_fonction_test\u001b[0m\n",
      "\u001b[30m * dumping to /mnt/research-live/user/cboissel/ibase/20200910_184839_fonction_test/\u001b[0m\n",
      "\u001b[30m * function fonction_test -> main.func (dill)\u001b[0m\n",
      "\u001b[30m * object config -> config.conf (dill)\u001b[0m\n",
      "\u001b[30m * inferred imports: 'pandas as pd', 'ibase', 'numpy as np', 'json'\u001b[0m\n",
      "\u001b[30m * object imports -> imports.mod (dill)\u001b[0m\n",
      "\u001b[30m * inferred objects: \u001b[0m\n",
      "\u001b[30m * path of python executable (/home/cboissel/conda/envs/my_env/bin) added to $PATH\u001b[0m\n",
      "\u001b[30m * using job definition cboissel.ibase_job_v0.2.1_py3\u001b[0m\n",
      "\u001b[30m * Created 20 tasks\u001b[0m\n",
      "\u001b[30m * job 350771 with 20 task(s) submitted to Batch Service\u001b[0m\n"
     ]
    }
   ],
   "source": [
    "job = ibase.parallelize(fonction_test, df)"
   ]
  },
  {
   "cell_type": "code",
   "execution_count": 14,
   "metadata": {},
   "outputs": [
    {
     "name": "stdout",
     "output_type": "stream",
     "text": [
      "\n",
      "Status of job 350771 (cboissel.ibase_job_v0.2.1_py3) : waiting\n",
      "\n",
      " * created:\t2020-09-10 16:48:39\n",
      "\n",
      "\n",
      "Statuses of the 20 tasks:\n",
      "\n",
      " * failed:  1\n",
      " * success:  19\n"
     ]
    }
   ],
   "source": [
    "job.status()"
   ]
  },
  {
   "cell_type": "code",
   "execution_count": 12,
   "metadata": {},
   "outputs": [
    {
     "name": "stdout",
     "output_type": "stream",
     "text": [
      "\n",
      "---------------------------------------\n",
      " * tail -n 20 error_log_file(s)\n",
      "---------------------------------------\n",
      "\n",
      "Matplotlib created a temporary config/cache directory at /opt/tmp/tmp/matplotlib-4izz5ow5 because the default path (/home/cboissel/.config/matplotlib) is not a writable directory; it is highly recommended to set the MPLCONFIGDIR environment variable to a writable directory, in particular to speed up the import of Matplotlib and to better support multiprocessing.\n",
      "Traceback (most recent call last):\n",
      "  File \"/home/cboissel/.bs/generated_scripts/cboissel.ibase_job_v0.2.1_py3.20200910121200206770.py\", line 36, in <module>\n",
      "    main()\n",
      "  File \"/home/cboissel/.bs/generated_scripts/cboissel.ibase_job_v0.2.1_py3.20200910121200206770.py\", line 32, in main\n",
      "    ibase_job_decorated(**script_args)\n",
      "  File \"/home/cboissel/.bs/generated_scripts/cboissel.ibase_job_v0.2.1_py3.20200910121200206770.py\", line 21, in wrapper\n",
      "    return func(*args, **kwargs)\n",
      "  File \"/home/cboissel/conda/envs/my_env/lib/python3.6/site-packages/ibase/_parallel.py\", line 192, in ibase_job\n",
      "    output = main_func(**kwargs)\n",
      "  File \"<ipython-input-8-480d3f1bad06>\", line 3, in fonction_test\n",
      "ValueError\n",
      "srun: error: srv007069: task 0: Exited with exit code 1\n",
      "\n",
      "\n",
      "---------------------------------------\n",
      " * tail -n 20 output_log_file(s)\n",
      "---------------------------------------\n",
      "\n",
      "18:48:47.251: INFO: ibase._parallel: line 156: imports:\n",
      "18:48:47.251: INFO: ibase._parallel: line 160: import pandas as pd\n",
      "18:48:47.251: INFO: ibase._parallel: line 162: import ibase\n",
      "18:48:47.252: INFO: ibase._parallel: line 160: import numpy as np\n",
      "18:48:47.252: INFO: ibase._parallel: line 162: import json\n",
      "18:48:47.252: INFO: ibase._parallel: line 167: ibase v0.2.1\n",
      "18:48:47.252: INFO: ibase._parallel: line 168: running python executable /home/cboissel/conda/envs/my_env/bin/python\n",
      "18:48:47.252: INFO: ibase._parallel: line 171: loading data from /mnt/research-live/user/cboissel/ibase/20200910_184839_fonction_test/\n",
      "18:48:47.260: INFO: ibase._parallel: line 191: running main function with parameters {'i': 4}:\n",
      "\n"
     ]
    }
   ],
   "source": [
    "job.logs(filter_status='failed')"
   ]
  },
  {
   "cell_type": "code",
   "execution_count": 13,
   "metadata": {},
   "outputs": [
    {
     "name": "stdout",
     "output_type": "stream",
     "text": [
      "\u001b[35;1mWARNING: Job 350771 is in status 'waiting': retrieving results for 19/20 successful tasks only\u001b[0m\n",
      "\u001b[30m * retrieving outputs of job 350771 from /mnt/research-live/user/cboissel/ibase/20200910_184839_fonction_test/\u001b[0m\n"
     ]
    }
   ],
   "source": [
    "results = job.results()"
   ]
  },
  {
   "cell_type": "code",
   "execution_count": 15,
   "metadata": {},
   "outputs": [
    {
     "data": {
      "text/plain": [
       "{'0': 'La valeur de i ici est de 0',\n",
       " '1': 'La valeur de i ici est de 1',\n",
       " '2': 'La valeur de i ici est de 2',\n",
       " '3': 'La valeur de i ici est de 3',\n",
       " '5': 'La valeur de i ici est de 5',\n",
       " '6': 'La valeur de i ici est de 6',\n",
       " '7': 'La valeur de i ici est de 7',\n",
       " '8': 'La valeur de i ici est de 8',\n",
       " '9': 'La valeur de i ici est de 9',\n",
       " '10': 'La valeur de i ici est de 10',\n",
       " '11': 'La valeur de i ici est de 11',\n",
       " '12': 'La valeur de i ici est de 12',\n",
       " '13': 'La valeur de i ici est de 13',\n",
       " '14': 'La valeur de i ici est de 14',\n",
       " '15': 'La valeur de i ici est de 15',\n",
       " '16': 'La valeur de i ici est de 16',\n",
       " '17': 'La valeur de i ici est de 17',\n",
       " '18': 'La valeur de i ici est de 18',\n",
       " '19': 'La valeur de i ici est de 19'}"
      ]
     },
     "execution_count": 15,
     "metadata": {},
     "output_type": "execute_result"
    }
   ],
   "source": [
    "results"
   ]
  },
  {
   "cell_type": "code",
   "execution_count": 34,
   "metadata": {},
   "outputs": [],
   "source": [
    "ibase._parallel.load_func?"
   ]
  },
  {
   "cell_type": "code",
   "execution_count": 16,
   "metadata": {},
   "outputs": [
    {
     "name": "stdout",
     "output_type": "stream",
     "text": [
      "\u001b[30m * killing job with ID 350771 (20 tasks)\u001b[0m\n",
      "\u001b[35;1mWARNING: No task found for job 350771 with the following statuses: pending, waiting, running\u001b[0m\n"
     ]
    },
    {
     "ename": "Error",
     "evalue": "Request PATCH http://batchservice.rech.cfm.fr/api/jobs/350771 failed with code 464",
     "output_type": "error",
     "traceback": [
      "\u001b[0;31m---------------------------------------------------------------------------\u001b[0m",
      "\u001b[0;31mError\u001b[0m                                     Traceback (most recent call last)",
      "\u001b[0;32m<ipython-input-16-b8c188acc918>\u001b[0m in \u001b[0;36m<module>\u001b[0;34m()\u001b[0m\n\u001b[0;32m----> 1\u001b[0;31m \u001b[0mjob\u001b[0m\u001b[0;34m.\u001b[0m\u001b[0mkill\u001b[0m\u001b[0;34m(\u001b[0m\u001b[0;34m)\u001b[0m\u001b[0;34m\u001b[0m\u001b[0;34m\u001b[0m\u001b[0m\n\u001b[0m",
      "\u001b[0;32m/home/cboissel/conda/envs/my_env/lib/python3.6/site-packages/ibase/_basejob.py\u001b[0m in \u001b[0;36mkill\u001b[0;34m(self, tasks)\u001b[0m\n\u001b[1;32m    172\u001b[0m             \u001b[0mnb_tasks\u001b[0m \u001b[0;34m=\u001b[0m \u001b[0mlen\u001b[0m\u001b[0;34m(\u001b[0m\u001b[0mself\u001b[0m\u001b[0;34m.\u001b[0m\u001b[0mtask_dict\u001b[0m\u001b[0;34m.\u001b[0m\u001b[0mkeys\u001b[0m\u001b[0;34m(\u001b[0m\u001b[0;34m)\u001b[0m\u001b[0;34m)\u001b[0m\u001b[0;34m\u001b[0m\u001b[0;34m\u001b[0m\u001b[0m\n\u001b[1;32m    173\u001b[0m             \u001b[0mlogger\u001b[0m\u001b[0;34m.\u001b[0m\u001b[0minfo\u001b[0m\u001b[0;34m(\u001b[0m\u001b[0;34m'killing job with ID {0} ({1} tasks)'\u001b[0m\u001b[0;34m.\u001b[0m\u001b[0mformat\u001b[0m\u001b[0;34m(\u001b[0m\u001b[0mself\u001b[0m\u001b[0;34m.\u001b[0m\u001b[0mjob\u001b[0m\u001b[0;34m.\u001b[0m\u001b[0mid\u001b[0m\u001b[0;34m,\u001b[0m \u001b[0mnb_tasks\u001b[0m\u001b[0;34m)\u001b[0m\u001b[0;34m)\u001b[0m\u001b[0;34m\u001b[0m\u001b[0;34m\u001b[0m\u001b[0m\n\u001b[0;32m--> 174\u001b[0;31m             \u001b[0mself\u001b[0m\u001b[0;34m.\u001b[0m\u001b[0mjob\u001b[0m\u001b[0;34m.\u001b[0m\u001b[0mkill\u001b[0m\u001b[0;34m(\u001b[0m\u001b[0;34m)\u001b[0m\u001b[0;34m\u001b[0m\u001b[0;34m\u001b[0m\u001b[0m\n\u001b[0m\u001b[1;32m    175\u001b[0m \u001b[0;34m\u001b[0m\u001b[0m\n\u001b[1;32m    176\u001b[0m         \u001b[0;32melse\u001b[0m\u001b[0;34m:\u001b[0m\u001b[0;34m\u001b[0m\u001b[0;34m\u001b[0m\u001b[0m\n",
      "\u001b[0;32m/home/cboissel/conda/envs/my_env/lib/python3.6/site-packages/bs_client/api/jobs.py\u001b[0m in \u001b[0;36mkill\u001b[0;34m(self, kill_pending, kill_running, kill_waiting, force, adaptor_getter)\u001b[0m\n\u001b[1;32m    155\u001b[0m                            'statuses: %s', self.id, \", \".join(statuses))\n\u001b[1;32m    156\u001b[0m             \u001b[0mself\u001b[0m\u001b[0;34m.\u001b[0m\u001b[0mstatus\u001b[0m \u001b[0;34m=\u001b[0m \u001b[0;34m'killed'\u001b[0m\u001b[0;34m\u001b[0m\u001b[0;34m\u001b[0m\u001b[0m\n\u001b[0;32m--> 157\u001b[0;31m             \u001b[0mself\u001b[0m\u001b[0;34m.\u001b[0m\u001b[0msave\u001b[0m\u001b[0;34m(\u001b[0m\u001b[0;34m)\u001b[0m\u001b[0;34m\u001b[0m\u001b[0;34m\u001b[0m\u001b[0m\n\u001b[0m\u001b[1;32m    158\u001b[0m \u001b[0;34m\u001b[0m\u001b[0m\n\u001b[1;32m    159\u001b[0m         \u001b[0mLOGGER\u001b[0m\u001b[0;34m.\u001b[0m\u001b[0minfo\u001b[0m\u001b[0;34m(\u001b[0m\u001b[0;34m'Job %s killed'\u001b[0m\u001b[0;34m,\u001b[0m \u001b[0mself\u001b[0m\u001b[0;34m.\u001b[0m\u001b[0mid\u001b[0m\u001b[0;34m)\u001b[0m\u001b[0;34m\u001b[0m\u001b[0;34m\u001b[0m\u001b[0m\n",
      "\u001b[0;32m/home/cboissel/conda/envs/my_env/lib/python3.6/site-packages/bs_client/rest.py\u001b[0m in \u001b[0;36msave\u001b[0;34m(self)\u001b[0m\n\u001b[1;32m    314\u001b[0m         \u001b[0;32mif\u001b[0m \u001b[0mself\u001b[0m\u001b[0;34m.\u001b[0m\u001b[0m_dirty\u001b[0m\u001b[0;34m:\u001b[0m\u001b[0;34m\u001b[0m\u001b[0;34m\u001b[0m\u001b[0m\n\u001b[1;32m    315\u001b[0m             \u001b[0mdata\u001b[0m \u001b[0;34m=\u001b[0m \u001b[0;34m{\u001b[0m\u001b[0mk\u001b[0m\u001b[0;34m:\u001b[0m \u001b[0mv\u001b[0m \u001b[0;32mfor\u001b[0m \u001b[0mk\u001b[0m\u001b[0;34m,\u001b[0m \u001b[0mv\u001b[0m \u001b[0;32min\u001b[0m \u001b[0mlist\u001b[0m\u001b[0;34m(\u001b[0m\u001b[0mself\u001b[0m\u001b[0;34m.\u001b[0m\u001b[0m_data\u001b[0m\u001b[0;34m.\u001b[0m\u001b[0mitems\u001b[0m\u001b[0;34m(\u001b[0m\u001b[0;34m)\u001b[0m\u001b[0;34m)\u001b[0m \u001b[0;32mif\u001b[0m \u001b[0mk\u001b[0m \u001b[0;32min\u001b[0m \u001b[0mself\u001b[0m\u001b[0;34m.\u001b[0m\u001b[0m_dirty\u001b[0m\u001b[0;34m}\u001b[0m\u001b[0;34m\u001b[0m\u001b[0;34m\u001b[0m\u001b[0m\n\u001b[0;32m--> 316\u001b[0;31m             \u001b[0mself\u001b[0m\u001b[0;34m.\u001b[0m\u001b[0m_data\u001b[0m \u001b[0;34m=\u001b[0m \u001b[0mself\u001b[0m\u001b[0;34m.\u001b[0m\u001b[0m_patch\u001b[0m\u001b[0;34m(\u001b[0m\u001b[0mdata\u001b[0m\u001b[0;34m=\u001b[0m\u001b[0mjson\u001b[0m\u001b[0;34m.\u001b[0m\u001b[0mdumps\u001b[0m\u001b[0;34m(\u001b[0m\u001b[0mdata\u001b[0m\u001b[0;34m)\u001b[0m\u001b[0;34m)\u001b[0m\u001b[0;34m\u001b[0m\u001b[0;34m\u001b[0m\u001b[0m\n\u001b[0m\u001b[1;32m    317\u001b[0m             \u001b[0mself\u001b[0m\u001b[0;34m.\u001b[0m\u001b[0m_dirty\u001b[0m \u001b[0;34m=\u001b[0m \u001b[0mset\u001b[0m\u001b[0;34m(\u001b[0m\u001b[0;34m)\u001b[0m\u001b[0;34m\u001b[0m\u001b[0;34m\u001b[0m\u001b[0m\n\u001b[1;32m    318\u001b[0m \u001b[0;34m\u001b[0m\u001b[0m\n",
      "\u001b[0;32m/home/cboissel/conda/envs/my_env/lib/python3.6/site-packages/bs_client/rest.py\u001b[0m in \u001b[0;36m_patch\u001b[0;34m(self, path, **kw)\u001b[0m\n\u001b[1;32m    250\u001b[0m \u001b[0;34m\u001b[0m\u001b[0m\n\u001b[1;32m    251\u001b[0m     \u001b[0;32mdef\u001b[0m \u001b[0m_patch\u001b[0m\u001b[0;34m(\u001b[0m\u001b[0mself\u001b[0m\u001b[0;34m,\u001b[0m \u001b[0mpath\u001b[0m\u001b[0;34m=\u001b[0m\u001b[0;32mNone\u001b[0m\u001b[0;34m,\u001b[0m \u001b[0;34m**\u001b[0m\u001b[0mkw\u001b[0m\u001b[0;34m)\u001b[0m\u001b[0;34m:\u001b[0m\u001b[0;34m\u001b[0m\u001b[0;34m\u001b[0m\u001b[0m\n\u001b[0;32m--> 252\u001b[0;31m         \u001b[0;32mreturn\u001b[0m \u001b[0mself\u001b[0m\u001b[0;34m.\u001b[0m\u001b[0m_request\u001b[0m\u001b[0;34m(\u001b[0m\u001b[0;34m'PATCH'\u001b[0m\u001b[0;34m,\u001b[0m \u001b[0mpath\u001b[0m\u001b[0;34m,\u001b[0m \u001b[0;34m**\u001b[0m\u001b[0mkw\u001b[0m\u001b[0;34m)\u001b[0m\u001b[0;34m\u001b[0m\u001b[0;34m\u001b[0m\u001b[0m\n\u001b[0m\u001b[1;32m    253\u001b[0m \u001b[0;34m\u001b[0m\u001b[0m\n\u001b[1;32m    254\u001b[0m     \u001b[0;32mdef\u001b[0m \u001b[0m_delete\u001b[0m\u001b[0;34m(\u001b[0m\u001b[0mself\u001b[0m\u001b[0;34m,\u001b[0m \u001b[0mpath\u001b[0m\u001b[0;34m=\u001b[0m\u001b[0;32mNone\u001b[0m\u001b[0;34m,\u001b[0m \u001b[0;34m**\u001b[0m\u001b[0mkw\u001b[0m\u001b[0;34m)\u001b[0m\u001b[0;34m:\u001b[0m\u001b[0;34m\u001b[0m\u001b[0;34m\u001b[0m\u001b[0m\n",
      "\u001b[0;32m/home/cboissel/conda/envs/my_env/lib/python3.6/site-packages/bs_client/rest.py\u001b[0m in \u001b[0;36m_request\u001b[0;34m(self, type_, path, **kw)\u001b[0m\n\u001b[1;32m    229\u001b[0m \u001b[0;34m\u001b[0m\u001b[0m\n\u001b[1;32m    230\u001b[0m     \u001b[0;32mdef\u001b[0m \u001b[0m_request\u001b[0m\u001b[0;34m(\u001b[0m\u001b[0mself\u001b[0m\u001b[0;34m,\u001b[0m \u001b[0mtype_\u001b[0m\u001b[0;34m,\u001b[0m \u001b[0mpath\u001b[0m\u001b[0;34m=\u001b[0m\u001b[0;32mNone\u001b[0m\u001b[0;34m,\u001b[0m \u001b[0;34m**\u001b[0m\u001b[0mkw\u001b[0m\u001b[0;34m)\u001b[0m\u001b[0;34m:\u001b[0m\u001b[0;34m\u001b[0m\u001b[0;34m\u001b[0m\u001b[0m\n\u001b[0;32m--> 231\u001b[0;31m         \u001b[0mresponse\u001b[0m \u001b[0;34m=\u001b[0m \u001b[0mself\u001b[0m\u001b[0;34m.\u001b[0m\u001b[0m_raw_request\u001b[0m\u001b[0;34m(\u001b[0m\u001b[0mtype_\u001b[0m\u001b[0;34m,\u001b[0m \u001b[0mpath\u001b[0m\u001b[0;34m,\u001b[0m \u001b[0;34m**\u001b[0m\u001b[0mkw\u001b[0m\u001b[0;34m)\u001b[0m\u001b[0;34m\u001b[0m\u001b[0;34m\u001b[0m\u001b[0m\n\u001b[0m\u001b[1;32m    232\u001b[0m \u001b[0;34m\u001b[0m\u001b[0m\n\u001b[1;32m    233\u001b[0m         \u001b[0;32mif\u001b[0m \u001b[0mresponse\u001b[0m\u001b[0;34m.\u001b[0m\u001b[0mcontent\u001b[0m\u001b[0;34m:\u001b[0m\u001b[0;34m\u001b[0m\u001b[0;34m\u001b[0m\u001b[0m\n",
      "\u001b[0;32m/home/cboissel/conda/envs/my_env/lib/python3.6/site-packages/bs_client/rest.py\u001b[0m in \u001b[0;36m_raw_request\u001b[0;34m(self, type_, path, **kw)\u001b[0m\n\u001b[1;32m    226\u001b[0m             message = 'Request %s %s failed with code %s' % (\n\u001b[1;32m    227\u001b[0m                 type_, response.url, response.status_code)\n\u001b[0;32m--> 228\u001b[0;31m             \u001b[0;32mraise\u001b[0m \u001b[0mError\u001b[0m\u001b[0;34m(\u001b[0m\u001b[0mmessage\u001b[0m\u001b[0;34m,\u001b[0m \u001b[0mresponse\u001b[0m\u001b[0;34m)\u001b[0m\u001b[0;34m\u001b[0m\u001b[0;34m\u001b[0m\u001b[0m\n\u001b[0m\u001b[1;32m    229\u001b[0m \u001b[0;34m\u001b[0m\u001b[0m\n\u001b[1;32m    230\u001b[0m     \u001b[0;32mdef\u001b[0m \u001b[0m_request\u001b[0m\u001b[0;34m(\u001b[0m\u001b[0mself\u001b[0m\u001b[0;34m,\u001b[0m \u001b[0mtype_\u001b[0m\u001b[0;34m,\u001b[0m \u001b[0mpath\u001b[0m\u001b[0;34m=\u001b[0m\u001b[0;32mNone\u001b[0m\u001b[0;34m,\u001b[0m \u001b[0;34m**\u001b[0m\u001b[0mkw\u001b[0m\u001b[0;34m)\u001b[0m\u001b[0;34m:\u001b[0m\u001b[0;34m\u001b[0m\u001b[0;34m\u001b[0m\u001b[0m\n",
      "\u001b[0;31mError\u001b[0m: Request PATCH http://batchservice.rech.cfm.fr/api/jobs/350771 failed with code 464"
     ]
    }
   ],
   "source": [
    "job.kill()"
   ]
  },
  {
   "cell_type": "code",
   "execution_count": 17,
   "metadata": {},
   "outputs": [
    {
     "name": "stdout",
     "output_type": "stream",
     "text": [
      "\n",
      "Status of job 347295 (cboissel.ibase_job_v0.2.1_py3) : pending\n",
      "\n",
      " * created:\t2020-09-10 12:12:00\n",
      "\n",
      "\n",
      "Statuses of the 20 tasks:\n",
      "\n",
      " * killed:  20\n"
     ]
    }
   ],
   "source": [
    "job.status()"
   ]
  },
  {
   "cell_type": "code",
   "execution_count": 24,
   "metadata": {},
   "outputs": [
    {
     "name": "stdout",
     "output_type": "stream",
     "text": [
      "Help on module ibase._parallel in ibase:\n",
      "\n",
      "NAME\n",
      "    ibase._parallel\n",
      "\n",
      "FUNCTIONS\n",
      "    dump_func(func, path)\n",
      "    \n",
      "    dump_h5(obj, path, key='key', obj_name=None, separator=';')\n",
      "        # dumping objects\n",
      "    \n",
      "    dump_obj(obj, path, obj_name=None)\n",
      "    \n",
      "    dumper(obj, file)\n",
      "    \n",
      "    get_global_imports()\n",
      "    \n",
      "    get_global_objects(func, main_var=None)\n",
      "    \n",
      "    ibase_job(path, key)\n",
      "    \n",
      "    list_files(path, pattern)\n",
      "    \n",
      "    load_func(path, func_name=None)\n",
      "    \n",
      "    load_h5(path, obj_name=None, separator=';')\n",
      "    \n",
      "    load_obj(path, obj_name=None)\n",
      "    \n",
      "    loader(file)\n",
      "    \n",
      "    parallelize(main_func, config, imports=None, objects=None, job_dir=None, SA_args=None, run_args=None, job_dep=None)\n",
      "        :param main_func: function to parallelize\n",
      "        :param config: configuration DataFrame for BAtch-SErvice-Job: columns correspond to the arguments of main_func,\n",
      "                       one row per task\n",
      "        :param imports: (optional) list of tuples of modules to be imported,\n",
      "                        e.g., [('pandas', 'pd'), ('numpy', 'numpy')] for 'import pandas as pd' and 'import numpy'\n",
      "                        if None: modules will be inferred\n",
      "        :param objects:  (optional) dictionary of objects to be dumped and loaded,\n",
      "                        e.g., {'subroutine1': subroutine1, 'glob_var1': glob_var1, 'glob_var2': glob_var2},\n",
      "                        if None: objects will be inferred\n",
      "        :param job_dir: (optional) path to use for dumping objects (inputs and outputs),\n",
      "                        if None: a path in /mnt/research-live/user/$USER/ibase will be created\n",
      "        :param SA_args: (optional) Slurm Adaptor arguments, default: {'mem': 10000, 'partition': 'short', 'time': 30}\n",
      "        :param run_args: (optional) arguments for BatchService, default: {'max_concurrent_tasks': 100}\n",
      "        :param job_dep: (optional) tuple of job-ids the job depends on, if None: no job-dependencies\n",
      "        :return: instance of class BaSeJob\n",
      "    \n",
      "    results(job_id, force=False)\n",
      "        :param job_id: ID of batch-service job\n",
      "        :param force: (optional) if True, force retrieval of results independently of task-status, default: False\n",
      "        :return: dictionary of job-ouputs\n",
      "    \n",
      "    set_global(global_name, value)\n",
      "\n",
      "DATA\n",
      "    ibase_version = '0.2.1'\n",
      "    logger = <Logger ibase._parallel (INFO)>\n",
      "\n",
      "FILE\n",
      "    /home/cboissel/conda/envs/my_env/lib/python3.6/site-packages/ibase/_parallel.py\n",
      "\n",
      "\n"
     ]
    }
   ],
   "source": [
    "help(ibase._parallel)"
   ]
  },
  {
   "cell_type": "code",
   "execution_count": 15,
   "metadata": {},
   "outputs": [
    {
     "name": "stdout",
     "output_type": "stream",
     "text": [
      "\u001b[31;1mERROR: No successful task for job 347295\u001b[0m\n"
     ]
    },
    {
     "data": {
      "text/plain": [
       "{}"
      ]
     },
     "execution_count": 15,
     "metadata": {},
     "output_type": "execute_result"
    }
   ],
   "source": [
    "job.results()"
   ]
  },
  {
   "cell_type": "code",
   "execution_count": 19,
   "metadata": {},
   "outputs": [
    {
     "name": "stdout",
     "output_type": "stream",
     "text": [
      "\u001b[31;1mERROR: No successful task for job 351119\u001b[0m\n"
     ]
    },
    {
     "data": {
      "text/plain": [
       "{}"
      ]
     },
     "execution_count": 19,
     "metadata": {},
     "output_type": "execute_result"
    }
   ],
   "source": [
    "job=ibase.BaSeJob(job_id=351119)\n",
    "job.results()"
   ]
  }
 ],
 "metadata": {
  "hide_input": false,
  "kernelspec": {
   "display_name": "[conda-my_env]",
   "language": "python",
   "name": "conda-env-conda-my_env-py"
  },
  "language_info": {
   "codemirror_mode": {
    "name": "ipython",
    "version": 3
   },
   "file_extension": ".py",
   "mimetype": "text/x-python",
   "name": "python",
   "nbconvert_exporter": "python",
   "pygments_lexer": "ipython3",
   "version": "3.6.8"
  },
  "toc": {
   "base_numbering": 1,
   "nav_menu": {},
   "number_sections": true,
   "sideBar": true,
   "skip_h1_title": false,
   "title_cell": "Table of Contents",
   "title_sidebar": "Contents",
   "toc_cell": false,
   "toc_position": {},
   "toc_section_display": true,
   "toc_window_display": false
  }
 },
 "nbformat": 4,
 "nbformat_minor": 4
}
